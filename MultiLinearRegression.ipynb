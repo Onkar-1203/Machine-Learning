{
 "cells": [
  {
   "cell_type": "code",
   "execution_count": 1,
   "id": "6b31749c-1f3e-4b58-b1c4-108c47c59091",
   "metadata": {},
   "outputs": [
    {
     "name": "stdout",
     "output_type": "stream",
     "text": [
      "Intercept (b0): 24.99999999999997\n",
      "Coefficient for Hours_Studied (b1): 0.30769230769230793\n",
      "Coefficient for Problems_Solved (b2): 1.5384615384615397\n",
      "Predicted Marks: 65.61538461538461\n"
     ]
    },
    {
     "name": "stderr",
     "output_type": "stream",
     "text": [
      "C:\\Users\\onkar\\anaconda3\\Lib\\site-packages\\sklearn\\base.py:493: UserWarning: X does not have valid feature names, but LinearRegression was fitted with feature names\n",
      "  warnings.warn(\n"
     ]
    }
   ],
   "source": [
    "import pandas as pd\n",
    "from sklearn.linear_model import LinearRegression\n",
    "\n",
    "# Step 1: Prepare the data\n",
    "data = {\n",
    "    'Hours_Studied': [2, 4, 6, 8],\n",
    "    'Problems_Solved': [10, 20, 30, 40],\n",
    "    'Marks': [40, 60, 70, 90]\n",
    "}\n",
    "df = pd.DataFrame(data)\n",
    "\n",
    "# Step 2: Define features (X) and target (Y)\n",
    "X = df[['Hours_Studied', 'Problems_Solved']]\n",
    "y = df['Marks']\n",
    "\n",
    "# Step 3: Train the model\n",
    "model = LinearRegression()\n",
    "model.fit(X, y)\n",
    "\n",
    "# Step 4: Display coefficients\n",
    "print(\"Intercept (b0):\", model.intercept_)\n",
    "print(\"Coefficient for Hours_Studied (b1):\", model.coef_[0])\n",
    "print(\"Coefficient for Problems_Solved (b2):\", model.coef_[1])\n",
    "\n",
    "# Step 5: Make a prediction\n",
    "# Example: Predict marks for a student who studied 5 hours and solved 25 problems\n",
    "predicted = model.predict([[7, 25]])\n",
    "print(\"Predicted Marks:\", predicted[0])"
   ]
  },
  {
   "cell_type": "code",
   "execution_count": null,
   "id": "1a54c8d8-5a91-421f-a526-0189e952abd1",
   "metadata": {},
   "outputs": [],
   "source": []
  }
 ],
 "metadata": {
  "kernelspec": {
   "display_name": "Python 3 (ipykernel)",
   "language": "python",
   "name": "python3"
  },
  "language_info": {
   "codemirror_mode": {
    "name": "ipython",
    "version": 3
   },
   "file_extension": ".py",
   "mimetype": "text/x-python",
   "name": "python",
   "nbconvert_exporter": "python",
   "pygments_lexer": "ipython3",
   "version": "3.12.4"
  }
 },
 "nbformat": 4,
 "nbformat_minor": 5
}
